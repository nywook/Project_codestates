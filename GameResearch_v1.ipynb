{
  "nbformat": 4,
  "nbformat_minor": 0,
  "metadata": {
    "colab": {
      "name": "GameResearch_v1",
      "provenance": [],
      "collapsed_sections": []
    },
    "kernelspec": {
      "name": "python3",
      "display_name": "Python 3"
    },
    "language_info": {
      "name": "python"
    }
  },
  "cells": [
    {
      "cell_type": "code",
      "source": [
        "!!echo \"# Project_codestates\" >> README.md\n",
        "!git init\n",
        "!git add README.md\n",
        "!git commit -m \"first commit\"\n",
        "!git branch -M main\n",
        "!git remote add origin https://github.com/nywook/Project_codestates.git\n",
        "!git push -u origin main"
      ],
      "metadata": {
        "colab": {
          "base_uri": "https://localhost:8080/"
        },
        "id": "x9loPPm4aKsx",
        "outputId": "db31c003-9b49-49d9-9b27-ba51bbfab34a"
      },
      "execution_count": 4,
      "outputs": [
        {
          "output_type": "stream",
          "name": "stdout",
          "text": [
            "Initialized empty Git repository in /content/.git/\n",
            "\n",
            "*** Please tell me who you are.\n",
            "\n",
            "Run\n",
            "\n",
            "  git config --global user.email \"you@example.com\"\n",
            "  git config --global user.name \"Your Name\"\n",
            "\n",
            "to set your account's default identity.\n",
            "Omit --global to set the identity only in this repository.\n",
            "\n",
            "fatal: unable to auto-detect email address (got 'root@27163deb330e.(none)')\n",
            "error: refname refs/heads/master not found\n",
            "fatal: Branch rename failed\n",
            "error: src refspec main does not match any.\n",
            "error: failed to push some refs to 'https://github.com/nywook/Project_codestates.git'\n"
          ]
        }
      ]
    },
    {
      "cell_type": "code",
      "execution_count": null,
      "metadata": {
        "id": "sjlp7qq7btVB"
      },
      "outputs": [],
      "source": [
        "import pandas as pd\n",
        "import numpy as np\n",
        "from datetime import datetime\n",
        "import seaborn as sns\n",
        "from sklearn.decomposition import PCA \n",
        "from sklearn.cluster import KMeans \n",
        "from sklearn.preprocessing import StandardScaler\n",
        "from sklearn.metrics import accuracy_score\n",
        "import re"
      ]
    },
    {
      "cell_type": "code",
      "source": [
        "!sudo apt-get install -y fonts-nanum\n",
        "!sudo fc-cache -fv\n",
        "!rm ~/.cache/matplotlib -rf\n",
        "!pip install squarify\n",
        "\n",
        "\n",
        "import matplotlib.pyplot as plt\n",
        "plt.rc('font', family='NanumBarunGothic')\n",
        "plt.rc('axes', unicode_minus=False)"
      ],
      "metadata": {
        "colab": {
          "base_uri": "https://localhost:8080/"
        },
        "id": "FAuQSSSX-BOo",
        "outputId": "a250c6cd-da98-435e-ec5c-fca5f9733b24"
      },
      "execution_count": null,
      "outputs": [
        {
          "output_type": "stream",
          "name": "stdout",
          "text": [
            "Reading package lists... Done\n",
            "Building dependency tree       \n",
            "Reading state information... Done\n",
            "fonts-nanum is already the newest version (20170925-1).\n",
            "0 upgraded, 0 newly installed, 0 to remove and 37 not upgraded.\n",
            "/usr/share/fonts: caching, new cache contents: 0 fonts, 1 dirs\n",
            "/usr/share/fonts/truetype: caching, new cache contents: 0 fonts, 3 dirs\n",
            "/usr/share/fonts/truetype/humor-sans: caching, new cache contents: 1 fonts, 0 dirs\n",
            "/usr/share/fonts/truetype/liberation: caching, new cache contents: 16 fonts, 0 dirs\n",
            "/usr/share/fonts/truetype/nanum: caching, new cache contents: 10 fonts, 0 dirs\n",
            "/usr/local/share/fonts: caching, new cache contents: 0 fonts, 0 dirs\n",
            "/root/.local/share/fonts: skipping, no such directory\n",
            "/root/.fonts: skipping, no such directory\n",
            "/var/cache/fontconfig: cleaning cache directory\n",
            "/root/.cache/fontconfig: not cleaning non-existent cache directory\n",
            "/root/.fontconfig: not cleaning non-existent cache directory\n",
            "fc-cache: succeeded\n",
            "Requirement already satisfied: squarify in /usr/local/lib/python3.7/dist-packages (0.4.3)\n"
          ]
        }
      ]
    },
    {
      "cell_type": "code",
      "source": [
        "from google.colab import drive\n",
        "drive.mount('/content/drive')"
      ],
      "metadata": {
        "colab": {
          "base_uri": "https://localhost:8080/"
        },
        "id": "RDkYJm6_ciC_",
        "outputId": "5d3ed33e-1814-4d13-b163-08cee0a508e9"
      },
      "execution_count": null,
      "outputs": [
        {
          "output_type": "stream",
          "name": "stdout",
          "text": [
            "Mounted at /content/drive\n"
          ]
        }
      ]
    },
    {
      "cell_type": "code",
      "source": [
        "df = pd.read_csv('/content/drive/MyDrive/Colab Notebooks/Project/S1/GR.csv', index_col=0)\n",
        "df.dropna(inplace=True)"
      ],
      "metadata": {
        "id": "MW6sUU2LSR4j"
      },
      "execution_count": null,
      "outputs": []
    },
    {
      "cell_type": "code",
      "source": [
        "#df.head()\n",
        "df1.head()"
      ],
      "metadata": {
        "id": "I0oYvWk32goy",
        "colab": {
          "base_uri": "https://localhost:8080/",
          "height": 206
        },
        "outputId": "e1a03d4d-9268-40e2-bbe6-bf52eb15a68c"
      },
      "execution_count": null,
      "outputs": [
        {
          "output_type": "execute_result",
          "data": {
            "text/html": [
              "<div>\n",
              "<style scoped>\n",
              "    .dataframe tbody tr th:only-of-type {\n",
              "        vertical-align: middle;\n",
              "    }\n",
              "\n",
              "    .dataframe tbody tr th {\n",
              "        vertical-align: top;\n",
              "    }\n",
              "\n",
              "    .dataframe thead th {\n",
              "        text-align: right;\n",
              "    }\n",
              "</style>\n",
              "<table border=\"1\" class=\"dataframe\">\n",
              "  <thead>\n",
              "    <tr style=\"text-align: right;\">\n",
              "      <th></th>\n",
              "      <th>Name</th>\n",
              "      <th>Platform</th>\n",
              "      <th>Year</th>\n",
              "      <th>Genre</th>\n",
              "      <th>Publisher</th>\n",
              "      <th>NA_Sales</th>\n",
              "      <th>EU_Sales</th>\n",
              "      <th>JP_Sales</th>\n",
              "      <th>Other_Sales</th>\n",
              "    </tr>\n",
              "  </thead>\n",
              "  <tbody>\n",
              "    <tr>\n",
              "      <th>1</th>\n",
              "      <td>Candace Kane's Candy Factory</td>\n",
              "      <td>DS</td>\n",
              "      <td>2008.0</td>\n",
              "      <td>Action</td>\n",
              "      <td>Destineer</td>\n",
              "      <td>0.04</td>\n",
              "      <td>0</td>\n",
              "      <td>0</td>\n",
              "      <td>0</td>\n",
              "    </tr>\n",
              "    <tr>\n",
              "      <th>2</th>\n",
              "      <td>The Munchables</td>\n",
              "      <td>Wii</td>\n",
              "      <td>2009.0</td>\n",
              "      <td>Action</td>\n",
              "      <td>Namco Bandai Games</td>\n",
              "      <td>0.17</td>\n",
              "      <td>0</td>\n",
              "      <td>0</td>\n",
              "      <td>0.01</td>\n",
              "    </tr>\n",
              "    <tr>\n",
              "      <th>3</th>\n",
              "      <td>Otome wa Oanesama Boku ni Koi Shiteru Portable</td>\n",
              "      <td>PSP</td>\n",
              "      <td>2010.0</td>\n",
              "      <td>Adventure</td>\n",
              "      <td>Alchemist</td>\n",
              "      <td>0</td>\n",
              "      <td>0</td>\n",
              "      <td>0.02</td>\n",
              "      <td>0</td>\n",
              "    </tr>\n",
              "    <tr>\n",
              "      <th>4</th>\n",
              "      <td>Deal or No Deal: Special Edition</td>\n",
              "      <td>DS</td>\n",
              "      <td>2010.0</td>\n",
              "      <td>Misc</td>\n",
              "      <td>Zoo Games</td>\n",
              "      <td>0.04</td>\n",
              "      <td>0</td>\n",
              "      <td>0</td>\n",
              "      <td>0</td>\n",
              "    </tr>\n",
              "    <tr>\n",
              "      <th>5</th>\n",
              "      <td>Ben 10 Ultimate Alien: Cosmic Destruction</td>\n",
              "      <td>PS3</td>\n",
              "      <td>2010.0</td>\n",
              "      <td>Platform</td>\n",
              "      <td>D3Publisher</td>\n",
              "      <td>0.12</td>\n",
              "      <td>0.09</td>\n",
              "      <td>0</td>\n",
              "      <td>0.04</td>\n",
              "    </tr>\n",
              "  </tbody>\n",
              "</table>\n",
              "</div>"
            ],
            "text/plain": [
              "                                             Name Platform  ...  JP_Sales Other_Sales\n",
              "1                    Candace Kane's Candy Factory       DS  ...         0           0\n",
              "2                                  The Munchables      Wii  ...         0        0.01\n",
              "3  Otome wa Oanesama Boku ni Koi Shiteru Portable      PSP  ...      0.02           0\n",
              "4                Deal or No Deal: Special Edition       DS  ...         0           0\n",
              "5       Ben 10 Ultimate Alien: Cosmic Destruction      PS3  ...         0        0.04\n",
              "\n",
              "[5 rows x 9 columns]"
            ]
          },
          "metadata": {},
          "execution_count": 22
        }
      ]
    },
    {
      "cell_type": "code",
      "source": [
        "df.info()"
      ],
      "metadata": {
        "id": "8dnJjbjFLc2D"
      },
      "execution_count": null,
      "outputs": []
    },
    {
      "cell_type": "code",
      "source": [
        "import missingno as msno\n",
        "msno.matrix(df, figsize=(18,6))"
      ],
      "metadata": {
        "id": "oWOc4tv9Jifm"
      },
      "execution_count": null,
      "outputs": []
    },
    {
      "cell_type": "markdown",
      "source": [
        "#### 1.Data PreProcessing\n",
        "##### 1.1 판매실적 (k & m)"
      ],
      "metadata": {
        "id": "1_4v1AO6MOUp"
      }
    },
    {
      "cell_type": "code",
      "source": [
        "df.dropna(inplace=True)\n",
        "df.reset_index(drop=True, inplace=True)\n",
        "\n",
        "df.isnull().sum()"
      ],
      "metadata": {
        "id": "RKZ1WqHXNmns",
        "colab": {
          "base_uri": "https://localhost:8080/"
        },
        "outputId": "cc3e4111-881d-4c64-d35f-e7dbab61d5f4"
      },
      "execution_count": null,
      "outputs": [
        {
          "output_type": "execute_result",
          "data": {
            "text/plain": [
              "Name           0\n",
              "Platform       0\n",
              "Year           0\n",
              "Genre          0\n",
              "Publisher      0\n",
              "NA_Sales       0\n",
              "EU_Sales       0\n",
              "JP_Sales       0\n",
              "Other_Sales    0\n",
              "dtype: int64"
            ]
          },
          "metadata": {},
          "execution_count": 30
        }
      ]
    },
    {
      "cell_type": "code",
      "source": [
        "num_col = ['NA_Sales', 'EU_Sales', 'JP_Sales', 'Other_Sales']\n",
        "for col in num_col:\n",
        "  counts = df[col].str.extract('([a-zA-Z])', expand = False).value_counts() # K와 M의 개수확인\n",
        "  print(\"column : {0}\\n{1}\\n\".format(col, counts))"
      ],
      "metadata": {
        "colab": {
          "base_uri": "https://localhost:8080/"
        },
        "id": "JNJfpsJ3Mk9Z",
        "outputId": "dfe62d31-91d1-4056-8326-f59e26bedb07"
      },
      "execution_count": null,
      "outputs": [
        {
          "output_type": "stream",
          "name": "stdout",
          "text": [
            "column : NA_Sales\n",
            "M    97\n",
            "K    94\n",
            "Name: NA_Sales, dtype: int64\n",
            "\n",
            "column : EU_Sales\n",
            "K    98\n",
            "M    97\n",
            "Name: EU_Sales, dtype: int64\n",
            "\n",
            "column : JP_Sales\n",
            "K    98\n",
            "M    98\n",
            "Name: JP_Sales, dtype: int64\n",
            "\n",
            "column : Other_Sales\n",
            "M    100\n",
            "K     97\n",
            "Name: Other_Sales, dtype: int64\n",
            "\n"
          ]
        }
      ]
    },
    {
      "cell_type": "code",
      "source": [
        "cond_M = (df['EU_Sales'].str.extract('([a-zA-Z])', expand = False) == 'M')\n",
        "df['EU_Sales'][cond_M].apply(lambda x: re.sub(\"([a-zA-Z])\",\"\",x)).astype(float)"
      ],
      "metadata": {
        "colab": {
          "base_uri": "https://localhost:8080/"
        },
        "id": "2b1ES0mBMq9h",
        "outputId": "3cc5b3d0-1206-401e-e1c8-9d8b35684616"
      },
      "execution_count": null,
      "outputs": [
        {
          "output_type": "execute_result",
          "data": {
            "text/plain": [
              "10       0.33\n",
              "35       0.03\n",
              "173      0.01\n",
              "214      0.01\n",
              "452      0.27\n",
              "         ... \n",
              "15817    0.01\n",
              "15918    0.05\n",
              "15995    0.00\n",
              "16032    0.04\n",
              "16215    0.00\n",
              "Name: EU_Sales, Length: 97, dtype: float64"
            ]
          },
          "metadata": {},
          "execution_count": 32
        }
      ]
    },
    {
      "cell_type": "code",
      "source": [
        "for col in num_col:\n",
        "  cond_k = (df[col].str.extract('([a-zA-Z])', expand = False) == 'K') # K의 단위를 가진 데이터\n",
        "  cond_m = (df[col].str.extract('([a-zA-Z])', expand = False) == 'M') # M의 단위를 가진 데이터\n",
        "\n",
        "  # 알파벳 \"K\" 삭제 및 단위맞추기\n",
        "  df[col][cond_k] = df[col][cond_k].apply(lambda x: re.sub(\"([a-zA-Z])\",\"\",x)).astype(float)\n",
        "  df[col][cond_k] = df[col][cond_k]/1000 # Convert a unit\n",
        "\n",
        "  # 알파벳 \"M\" 삭제\n",
        "  df[col][cond_m] = df[col][cond_m].apply(lambda x: re.sub(\"([a-zA-Z])\",\"\",x)).astype(float)\n",
        "  \n",
        "  # Float으로 변경\n",
        "  df[col] = df[col].astype(float)"
      ],
      "metadata": {
        "id": "Ttj1NdXUM6Hw"
      },
      "execution_count": null,
      "outputs": []
    },
    {
      "cell_type": "code",
      "source": [
        "df.head()"
      ],
      "metadata": {
        "colab": {
          "base_uri": "https://localhost:8080/",
          "height": 206
        },
        "id": "OYtb7ZwZPAUO",
        "outputId": "e038f777-3873-40c4-99c1-6ea0e535de83"
      },
      "execution_count": null,
      "outputs": [
        {
          "output_type": "execute_result",
          "data": {
            "text/html": [
              "<div>\n",
              "<style scoped>\n",
              "    .dataframe tbody tr th:only-of-type {\n",
              "        vertical-align: middle;\n",
              "    }\n",
              "\n",
              "    .dataframe tbody tr th {\n",
              "        vertical-align: top;\n",
              "    }\n",
              "\n",
              "    .dataframe thead th {\n",
              "        text-align: right;\n",
              "    }\n",
              "</style>\n",
              "<table border=\"1\" class=\"dataframe\">\n",
              "  <thead>\n",
              "    <tr style=\"text-align: right;\">\n",
              "      <th></th>\n",
              "      <th>Name</th>\n",
              "      <th>Platform</th>\n",
              "      <th>Year</th>\n",
              "      <th>Genre</th>\n",
              "      <th>Publisher</th>\n",
              "      <th>NA_Sales</th>\n",
              "      <th>EU_Sales</th>\n",
              "      <th>JP_Sales</th>\n",
              "      <th>Other_Sales</th>\n",
              "    </tr>\n",
              "  </thead>\n",
              "  <tbody>\n",
              "    <tr>\n",
              "      <th>0</th>\n",
              "      <td>Candace Kane's Candy Factory</td>\n",
              "      <td>DS</td>\n",
              "      <td>2008.0</td>\n",
              "      <td>Action</td>\n",
              "      <td>Destineer</td>\n",
              "      <td>0.04</td>\n",
              "      <td>0.00</td>\n",
              "      <td>0.00</td>\n",
              "      <td>0.00</td>\n",
              "    </tr>\n",
              "    <tr>\n",
              "      <th>1</th>\n",
              "      <td>The Munchables</td>\n",
              "      <td>Wii</td>\n",
              "      <td>2009.0</td>\n",
              "      <td>Action</td>\n",
              "      <td>Namco Bandai Games</td>\n",
              "      <td>0.17</td>\n",
              "      <td>0.00</td>\n",
              "      <td>0.00</td>\n",
              "      <td>0.01</td>\n",
              "    </tr>\n",
              "    <tr>\n",
              "      <th>2</th>\n",
              "      <td>Otome wa Oanesama Boku ni Koi Shiteru Portable</td>\n",
              "      <td>PSP</td>\n",
              "      <td>2010.0</td>\n",
              "      <td>Adventure</td>\n",
              "      <td>Alchemist</td>\n",
              "      <td>0.00</td>\n",
              "      <td>0.00</td>\n",
              "      <td>0.02</td>\n",
              "      <td>0.00</td>\n",
              "    </tr>\n",
              "    <tr>\n",
              "      <th>3</th>\n",
              "      <td>Deal or No Deal: Special Edition</td>\n",
              "      <td>DS</td>\n",
              "      <td>2010.0</td>\n",
              "      <td>Misc</td>\n",
              "      <td>Zoo Games</td>\n",
              "      <td>0.04</td>\n",
              "      <td>0.00</td>\n",
              "      <td>0.00</td>\n",
              "      <td>0.00</td>\n",
              "    </tr>\n",
              "    <tr>\n",
              "      <th>4</th>\n",
              "      <td>Ben 10 Ultimate Alien: Cosmic Destruction</td>\n",
              "      <td>PS3</td>\n",
              "      <td>2010.0</td>\n",
              "      <td>Platform</td>\n",
              "      <td>D3Publisher</td>\n",
              "      <td>0.12</td>\n",
              "      <td>0.09</td>\n",
              "      <td>0.00</td>\n",
              "      <td>0.04</td>\n",
              "    </tr>\n",
              "  </tbody>\n",
              "</table>\n",
              "</div>"
            ],
            "text/plain": [
              "                                             Name  ... Other_Sales\n",
              "0                    Candace Kane's Candy Factory  ...        0.00\n",
              "1                                  The Munchables  ...        0.01\n",
              "2  Otome wa Oanesama Boku ni Koi Shiteru Portable  ...        0.00\n",
              "3                Deal or No Deal: Special Edition  ...        0.00\n",
              "4       Ben 10 Ultimate Alien: Cosmic Destruction  ...        0.04\n",
              "\n",
              "[5 rows x 9 columns]"
            ]
          },
          "metadata": {},
          "execution_count": 34
        }
      ]
    },
    {
      "cell_type": "markdown",
      "source": [
        "##### 1.2 년도 전처리"
      ],
      "metadata": {
        "id": "VvuyOnX4Py2U"
      }
    },
    {
      "cell_type": "code",
      "source": [
        "df['Year'].value_counts()"
      ],
      "metadata": {
        "colab": {
          "base_uri": "https://localhost:8080/"
        },
        "id": "RTxyn3COP_Wh",
        "outputId": "202c60a4-0319-484f-910b-c8c3ff647951"
      },
      "execution_count": null,
      "outputs": [
        {
          "output_type": "execute_result",
          "data": {
            "text/plain": [
              "2009.0    1418\n",
              "2008.0    1413\n",
              "2010.0    1246\n",
              "2007.0    1192\n",
              "2011.0    1123\n",
              "          ... \n",
              "12.0         2\n",
              "97.0         2\n",
              "94.0         1\n",
              "2020.0       1\n",
              "86.0         1\n",
              "Name: Year, Length: 62, dtype: int64"
            ]
          },
          "metadata": {},
          "execution_count": 35
        }
      ]
    },
    {
      "cell_type": "code",
      "source": [
        "# 1000이하 데이터 확인Check all values less than 1000\n",
        "cond_1000 = (df['Year'] < 1000)\n",
        "df['Year'][cond_1000].value_counts()"
      ],
      "metadata": {
        "colab": {
          "base_uri": "https://localhost:8080/"
        },
        "id": "N3nuDZdLQCj-",
        "outputId": "d1599efa-4758-429d-b9e5-be075f627aac"
      },
      "execution_count": null,
      "outputs": [
        {
          "output_type": "execute_result",
          "data": {
            "text/plain": [
              "9.0     10\n",
              "8.0     10\n",
              "11.0    10\n",
              "3.0      7\n",
              "6.0      7\n",
              "10.0     7\n",
              "15.0     5\n",
              "16.0     5\n",
              "4.0      4\n",
              "5.0      4\n",
              "95.0     4\n",
              "7.0      3\n",
              "98.0     3\n",
              "0.0      3\n",
              "2.0      3\n",
              "96.0     3\n",
              "14.0     2\n",
              "97.0     2\n",
              "1.0      2\n",
              "13.0     2\n",
              "12.0     2\n",
              "86.0     1\n",
              "94.0     1\n",
              "Name: Year, dtype: int64"
            ]
          },
          "metadata": {},
          "execution_count": 40
        }
      ]
    },
    {
      "cell_type": "code",
      "source": [
        "cond_1000 = (df['Year'] < 1000)\n",
        "df['Year'][cond_1000] = df['Year'][cond_1000].apply(lambda x: x + 2000 if x < 21 else x + 1900)"
      ],
      "metadata": {
        "colab": {
          "base_uri": "https://localhost:8080/"
        },
        "id": "W6u6fBJhQbra",
        "outputId": "657f1065-d8d2-4f8d-ccad-0f0985619dfa"
      },
      "execution_count": null,
      "outputs": [
        {
          "output_type": "stream",
          "name": "stderr",
          "text": [
            "/usr/local/lib/python3.7/dist-packages/ipykernel_launcher.py:2: SettingWithCopyWarning: \n",
            "A value is trying to be set on a copy of a slice from a DataFrame\n",
            "\n",
            "See the caveats in the documentation: https://pandas.pydata.org/pandas-docs/stable/user_guide/indexing.html#returning-a-view-versus-a-copy\n",
            "  \n"
          ]
        }
      ]
    },
    {
      "cell_type": "code",
      "source": [
        "np.sort(df['Year'].unique())"
      ],
      "metadata": {
        "colab": {
          "base_uri": "https://localhost:8080/"
        },
        "id": "DJ_mbvYKQjMl",
        "outputId": "df301f99-e4a2-4ec4-9c7d-921011861843"
      },
      "execution_count": null,
      "outputs": [
        {
          "output_type": "execute_result",
          "data": {
            "text/plain": [
              "array([1980., 1981., 1982., 1983., 1984., 1985., 1986., 1987., 1988.,\n",
              "       1989., 1990., 1991., 1992., 1993., 1994., 1995., 1996., 1997.,\n",
              "       1998., 1999., 2000., 2001., 2002., 2003., 2004., 2005., 2006.,\n",
              "       2007., 2008., 2009., 2010., 2011., 2012., 2013., 2014., 2015.,\n",
              "       2016., 2017., 2020.])"
            ]
          },
          "metadata": {},
          "execution_count": 43
        }
      ]
    },
    {
      "cell_type": "code",
      "source": [
        "df.isnull().sum()"
      ],
      "metadata": {
        "colab": {
          "base_uri": "https://localhost:8080/"
        },
        "id": "IZrIkBlrQ1G_",
        "outputId": "644b65c9-736b-4a38-bc6a-8bb343891d73"
      },
      "execution_count": null,
      "outputs": [
        {
          "output_type": "execute_result",
          "data": {
            "text/plain": [
              "Name           0\n",
              "Platform       0\n",
              "Year           0\n",
              "Genre          0\n",
              "Publisher      0\n",
              "NA_Sales       0\n",
              "EU_Sales       0\n",
              "JP_Sales       0\n",
              "Other_Sales    0\n",
              "dtype: int64"
            ]
          },
          "metadata": {},
          "execution_count": 44
        }
      ]
    },
    {
      "cell_type": "markdown",
      "source": [
        "##### 1.3 genre 와 Publisher"
      ],
      "metadata": {
        "id": "67AiXbflQ7Pc"
      }
    },
    {
      "cell_type": "code",
      "source": [
        "publisher_na =  ( df['Publisher'].isnull() )\n",
        "genre_na =  ( df['Genre'].isnull() )\n",
        "\n",
        "# NA 데이터 확인\n",
        "both_na =  ( publisher_na & genre_na )\n",
        "df[both_na]"
      ],
      "metadata": {
        "colab": {
          "base_uri": "https://localhost:8080/",
          "height": 50
        },
        "id": "m_2zkaYyRAhE",
        "outputId": "43d4b4c0-8984-4e37-fade-28d466fb8159"
      },
      "execution_count": null,
      "outputs": [
        {
          "output_type": "execute_result",
          "data": {
            "text/html": [
              "<div>\n",
              "<style scoped>\n",
              "    .dataframe tbody tr th:only-of-type {\n",
              "        vertical-align: middle;\n",
              "    }\n",
              "\n",
              "    .dataframe tbody tr th {\n",
              "        vertical-align: top;\n",
              "    }\n",
              "\n",
              "    .dataframe thead th {\n",
              "        text-align: right;\n",
              "    }\n",
              "</style>\n",
              "<table border=\"1\" class=\"dataframe\">\n",
              "  <thead>\n",
              "    <tr style=\"text-align: right;\">\n",
              "      <th></th>\n",
              "      <th>Name</th>\n",
              "      <th>Platform</th>\n",
              "      <th>Year</th>\n",
              "      <th>Genre</th>\n",
              "      <th>Publisher</th>\n",
              "      <th>NA_Sales</th>\n",
              "      <th>EU_Sales</th>\n",
              "      <th>JP_Sales</th>\n",
              "      <th>Other_Sales</th>\n",
              "    </tr>\n",
              "  </thead>\n",
              "  <tbody>\n",
              "  </tbody>\n",
              "</table>\n",
              "</div>"
            ],
            "text/plain": [
              "Empty DataFrame\n",
              "Columns: [Name, Platform, Year, Genre, Publisher, NA_Sales, EU_Sales, JP_Sales, Other_Sales]\n",
              "Index: []"
            ]
          },
          "metadata": {},
          "execution_count": 49
        }
      ]
    },
    {
      "cell_type": "markdown",
      "source": [
        "##### 1.4 플랫폼"
      ],
      "metadata": {
        "id": "OZ1gR2iRR_yi"
      }
    },
    {
      "cell_type": "code",
      "source": [
        "df['Platform'].value_counts()"
      ],
      "metadata": {
        "colab": {
          "base_uri": "https://localhost:8080/"
        },
        "id": "zLtTHyWwR8Fo",
        "outputId": "be9f5e15-1328-4067-a10c-f61428f8bcb3"
      },
      "execution_count": null,
      "outputs": [
        {
          "output_type": "execute_result",
          "data": {
            "text/plain": [
              "DS      2127\n",
              "PS2     2121\n",
              "PS3     1299\n",
              "Wii     1284\n",
              "X360    1231\n",
              "PSP     1193\n",
              "PS      1185\n",
              "PC       935\n",
              "XB       799\n",
              "GBA      784\n",
              "GC       541\n",
              "3DS      498\n",
              "PSV      409\n",
              "PS4      335\n",
              "N64      313\n",
              "SNES     239\n",
              "XOne     212\n",
              "SAT      173\n",
              "WiiU     143\n",
              "2600     115\n",
              "NES       98\n",
              "GB        97\n",
              "DC        52\n",
              "GEN       27\n",
              "NG        12\n",
              "SCD        6\n",
              "WS         6\n",
              "3DO        3\n",
              "TG16       2\n",
              "GG         1\n",
              "PCFX       1\n",
              "Name: Platform, dtype: int64"
            ]
          },
          "metadata": {},
          "execution_count": 50
        }
      ]
    },
    {
      "cell_type": "code",
      "source": [
        "# 플롯폼별 게임운영개수\n",
        "df1 = df[['Year', 'Platform']]\n",
        "df1_not_na = df1[-df1.isnull()].reset_index()\n",
        "df1_not_na.drop('index',axis = 1, inplace = True)\n",
        "\n",
        "df1_not_na.head()"
      ],
      "metadata": {
        "colab": {
          "base_uri": "https://localhost:8080/",
          "height": 206
        },
        "id": "1eYO9dZYSIA4",
        "outputId": "0c4e9813-0be8-4558-9dcd-ca4284fa2740"
      },
      "execution_count": null,
      "outputs": [
        {
          "output_type": "execute_result",
          "data": {
            "text/html": [
              "<div>\n",
              "<style scoped>\n",
              "    .dataframe tbody tr th:only-of-type {\n",
              "        vertical-align: middle;\n",
              "    }\n",
              "\n",
              "    .dataframe tbody tr th {\n",
              "        vertical-align: top;\n",
              "    }\n",
              "\n",
              "    .dataframe thead th {\n",
              "        text-align: right;\n",
              "    }\n",
              "</style>\n",
              "<table border=\"1\" class=\"dataframe\">\n",
              "  <thead>\n",
              "    <tr style=\"text-align: right;\">\n",
              "      <th></th>\n",
              "      <th>Year</th>\n",
              "      <th>Platform</th>\n",
              "    </tr>\n",
              "  </thead>\n",
              "  <tbody>\n",
              "    <tr>\n",
              "      <th>0</th>\n",
              "      <td>2008.0</td>\n",
              "      <td>DS</td>\n",
              "    </tr>\n",
              "    <tr>\n",
              "      <th>1</th>\n",
              "      <td>2009.0</td>\n",
              "      <td>Wii</td>\n",
              "    </tr>\n",
              "    <tr>\n",
              "      <th>2</th>\n",
              "      <td>2010.0</td>\n",
              "      <td>PSP</td>\n",
              "    </tr>\n",
              "    <tr>\n",
              "      <th>3</th>\n",
              "      <td>2010.0</td>\n",
              "      <td>DS</td>\n",
              "    </tr>\n",
              "    <tr>\n",
              "      <th>4</th>\n",
              "      <td>2010.0</td>\n",
              "      <td>PS3</td>\n",
              "    </tr>\n",
              "  </tbody>\n",
              "</table>\n",
              "</div>"
            ],
            "text/plain": [
              "     Year Platform\n",
              "0  2008.0       DS\n",
              "1  2009.0      Wii\n",
              "2  2010.0      PSP\n",
              "3  2010.0       DS\n",
              "4  2010.0      PS3"
            ]
          },
          "metadata": {},
          "execution_count": 56
        }
      ]
    },
    {
      "cell_type": "code",
      "source": [
        "# 10년단위 플랫폼별 게임개수\n",
        "## 2010 ~ 2020\n",
        "cond_2020 = ( (df1_not_na['Year'] <= 2020) & (df1_not_na['Year'] > 2010) )\n",
        "df1_2020 = df1_not_na[cond_2020].reset_index()\n",
        "df1_2020.drop('index', axis = 1, inplace = True)\n",
        "\n",
        "## Platform\n",
        "platform_2020 = df1_2020['Platform'].value_counts().index.tolist()\n",
        "\n",
        "\n",
        "#-----------------------------------------------------------------------------#\n",
        "\n",
        "## 2000 ~ 2010\n",
        "cond_2010 = ( (df1_not_na['Year'] <= 2010) & (df1_not_na['Year'] > 2000) )\n",
        "df1_2010 = df1_not_na[cond_2010].reset_index()\n",
        "df1_2010.drop('index', axis = 1, inplace = True)\n",
        "\n",
        "## Platform\n",
        "platform_2010 = df1_2010['Platform'].value_counts().index.tolist()\n",
        "\n",
        "#-----------------------------------------------------------------------------#\n",
        "\n",
        "## ~ 2000\n",
        "cond_2000 = (df1_not_na['Year'] <= 2000)\n",
        "df1_2000 = df1_not_na[cond_2000].reset_index()\n",
        "df1_2000.drop('index', axis = 1, inplace = True)\n",
        "\n",
        "## Platform\n",
        "platform_2000 = df1_2000['Platform'].value_counts().index.tolist()"
      ],
      "metadata": {
        "id": "XnYQSlN4SJy5"
      },
      "execution_count": null,
      "outputs": []
    },
    {
      "cell_type": "code",
      "source": [
        "fig, axes = plt.subplots(nrows = 3, ncols = 1, figsize = (15,18))\n",
        "\n",
        "# X and Y 축\n",
        "## 타이틀\n",
        "title_font = {\n",
        "    'family': 'monospace',\n",
        "    'color':  'black',\n",
        "    'fontsize': 30,\n",
        "    'fontweight': 'bold'\n",
        "}\n",
        "\n",
        "## 텍스트\n",
        "text_font = {\n",
        "    'family': 'monospace',\n",
        "    'color':  'black',\n",
        "    'weight': 'bold',\n",
        "    'size': 18,\n",
        "    }\n",
        "\n",
        "\n",
        "sns.boxplot(x = 'Platform', y = 'Year', data = df1_2020, ax = axes[0])\n",
        "axes[0].set_title(\"Platform : 2010 ~ 2017\", fontdict = title_font)\n",
        "axes[0].set_xlabel('Platform', fontdict = text_font)\n",
        "axes[0].set_ylabel('Year', fontdict = text_font)\n",
        "axes[0].grid(True)\n",
        "\n",
        "sns.boxplot(x = 'Platform', y = 'Year', data = df1_2010, ax = axes[1])\n",
        "axes[1].set_title(\"Platform : 2000 ~ 2010\",fontdict = title_font)\n",
        "axes[1].set_xlabel('Platform', fontdict = text_font)\n",
        "axes[1].set_ylabel('Year', fontdict = text_font)\n",
        "axes[1].grid(True)\n",
        "\n",
        "sns.boxplot(x = 'Platform', y = 'Year', data = df1_2000, ax = axes[2])\n",
        "axes[2].set_title(\"Platform : ~ 2000\",fontdict = title_font)\n",
        "axes[2].set_xlabel('Platform', fontdict = text_font)\n",
        "axes[2].set_ylabel('Year', fontdict = text_font)\n",
        "axes[2].grid(True)\n",
        "\n",
        "plt.subplots_adjust(hspace= 0.3)\n",
        "\n",
        "plt.show()"
      ],
      "metadata": {
        "id": "DTi2F6SOSN54"
      },
      "execution_count": null,
      "outputs": []
    },
    {
      "cell_type": "code",
      "source": [
        "# 연도별 가장 많은 Platform\n",
        "list_mode = pd.DataFrame( df[['Platform', 'Year']].groupby('Platform').agg(lambda x:x.value_counts().index[0]) )\n",
        "dic_list_mode = list_mode.to_dict()\n",
        "dic_list_mode = dic_list_mode['Year']\n",
        "pd.DataFrame(list(dic_list_mode.items()), columns = ['Platform', 'Year']).head(10)"
      ],
      "metadata": {
        "colab": {
          "base_uri": "https://localhost:8080/",
          "height": 363
        },
        "id": "WXCZCVH_boW0",
        "outputId": "5714ebdf-92ba-4d2d-bf5a-e117529aae90"
      },
      "execution_count": null,
      "outputs": [
        {
          "output_type": "execute_result",
          "data": {
            "text/html": [
              "<div>\n",
              "<style scoped>\n",
              "    .dataframe tbody tr th:only-of-type {\n",
              "        vertical-align: middle;\n",
              "    }\n",
              "\n",
              "    .dataframe tbody tr th {\n",
              "        vertical-align: top;\n",
              "    }\n",
              "\n",
              "    .dataframe thead th {\n",
              "        text-align: right;\n",
              "    }\n",
              "</style>\n",
              "<table border=\"1\" class=\"dataframe\">\n",
              "  <thead>\n",
              "    <tr style=\"text-align: right;\">\n",
              "      <th></th>\n",
              "      <th>Platform</th>\n",
              "      <th>Year</th>\n",
              "    </tr>\n",
              "  </thead>\n",
              "  <tbody>\n",
              "    <tr>\n",
              "      <th>0</th>\n",
              "      <td>2600</td>\n",
              "      <td>1981.0</td>\n",
              "    </tr>\n",
              "    <tr>\n",
              "      <th>1</th>\n",
              "      <td>3DO</td>\n",
              "      <td>1995.0</td>\n",
              "    </tr>\n",
              "    <tr>\n",
              "      <th>2</th>\n",
              "      <td>3DS</td>\n",
              "      <td>2011.0</td>\n",
              "    </tr>\n",
              "    <tr>\n",
              "      <th>3</th>\n",
              "      <td>DC</td>\n",
              "      <td>2000.0</td>\n",
              "    </tr>\n",
              "    <tr>\n",
              "      <th>4</th>\n",
              "      <td>DS</td>\n",
              "      <td>2008.0</td>\n",
              "    </tr>\n",
              "    <tr>\n",
              "      <th>5</th>\n",
              "      <td>GB</td>\n",
              "      <td>2000.0</td>\n",
              "    </tr>\n",
              "    <tr>\n",
              "      <th>6</th>\n",
              "      <td>GBA</td>\n",
              "      <td>2002.0</td>\n",
              "    </tr>\n",
              "    <tr>\n",
              "      <th>7</th>\n",
              "      <td>GC</td>\n",
              "      <td>2002.0</td>\n",
              "    </tr>\n",
              "    <tr>\n",
              "      <th>8</th>\n",
              "      <td>GEN</td>\n",
              "      <td>1994.0</td>\n",
              "    </tr>\n",
              "    <tr>\n",
              "      <th>9</th>\n",
              "      <td>GG</td>\n",
              "      <td>1992.0</td>\n",
              "    </tr>\n",
              "  </tbody>\n",
              "</table>\n",
              "</div>"
            ],
            "text/plain": [
              "  Platform    Year\n",
              "0     2600  1981.0\n",
              "1      3DO  1995.0\n",
              "2      3DS  2011.0\n",
              "3       DC  2000.0\n",
              "4       DS  2008.0\n",
              "5       GB  2000.0\n",
              "6      GBA  2002.0\n",
              "7       GC  2002.0\n",
              "8      GEN  1994.0\n",
              "9       GG  1992.0"
            ]
          },
          "metadata": {},
          "execution_count": 75
        }
      ]
    },
    {
      "cell_type": "code",
      "source": [
        "df['Year'] = df['Year'].astype(int)\n",
        "df.head()"
      ],
      "metadata": {
        "colab": {
          "base_uri": "https://localhost:8080/",
          "height": 206
        },
        "id": "eUkP91EobyEv",
        "outputId": "61d007e1-6339-4f9f-fe0c-7bea535e6865"
      },
      "execution_count": null,
      "outputs": [
        {
          "output_type": "execute_result",
          "data": {
            "text/html": [
              "<div>\n",
              "<style scoped>\n",
              "    .dataframe tbody tr th:only-of-type {\n",
              "        vertical-align: middle;\n",
              "    }\n",
              "\n",
              "    .dataframe tbody tr th {\n",
              "        vertical-align: top;\n",
              "    }\n",
              "\n",
              "    .dataframe thead th {\n",
              "        text-align: right;\n",
              "    }\n",
              "</style>\n",
              "<table border=\"1\" class=\"dataframe\">\n",
              "  <thead>\n",
              "    <tr style=\"text-align: right;\">\n",
              "      <th></th>\n",
              "      <th>Name</th>\n",
              "      <th>Platform</th>\n",
              "      <th>Year</th>\n",
              "      <th>Genre</th>\n",
              "      <th>Publisher</th>\n",
              "      <th>NA_Sales</th>\n",
              "      <th>EU_Sales</th>\n",
              "      <th>JP_Sales</th>\n",
              "      <th>Other_Sales</th>\n",
              "    </tr>\n",
              "  </thead>\n",
              "  <tbody>\n",
              "    <tr>\n",
              "      <th>0</th>\n",
              "      <td>Candace Kane's Candy Factory</td>\n",
              "      <td>DS</td>\n",
              "      <td>2008</td>\n",
              "      <td>Action</td>\n",
              "      <td>Destineer</td>\n",
              "      <td>0.04</td>\n",
              "      <td>0.00</td>\n",
              "      <td>0.00</td>\n",
              "      <td>0.00</td>\n",
              "    </tr>\n",
              "    <tr>\n",
              "      <th>1</th>\n",
              "      <td>The Munchables</td>\n",
              "      <td>Wii</td>\n",
              "      <td>2009</td>\n",
              "      <td>Action</td>\n",
              "      <td>Namco Bandai Games</td>\n",
              "      <td>0.17</td>\n",
              "      <td>0.00</td>\n",
              "      <td>0.00</td>\n",
              "      <td>0.01</td>\n",
              "    </tr>\n",
              "    <tr>\n",
              "      <th>2</th>\n",
              "      <td>Otome wa Oanesama Boku ni Koi Shiteru Portable</td>\n",
              "      <td>PSP</td>\n",
              "      <td>2010</td>\n",
              "      <td>Adventure</td>\n",
              "      <td>Alchemist</td>\n",
              "      <td>0.00</td>\n",
              "      <td>0.00</td>\n",
              "      <td>0.02</td>\n",
              "      <td>0.00</td>\n",
              "    </tr>\n",
              "    <tr>\n",
              "      <th>3</th>\n",
              "      <td>Deal or No Deal: Special Edition</td>\n",
              "      <td>DS</td>\n",
              "      <td>2010</td>\n",
              "      <td>Misc</td>\n",
              "      <td>Zoo Games</td>\n",
              "      <td>0.04</td>\n",
              "      <td>0.00</td>\n",
              "      <td>0.00</td>\n",
              "      <td>0.00</td>\n",
              "    </tr>\n",
              "    <tr>\n",
              "      <th>4</th>\n",
              "      <td>Ben 10 Ultimate Alien: Cosmic Destruction</td>\n",
              "      <td>PS3</td>\n",
              "      <td>2010</td>\n",
              "      <td>Platform</td>\n",
              "      <td>D3Publisher</td>\n",
              "      <td>0.12</td>\n",
              "      <td>0.09</td>\n",
              "      <td>0.00</td>\n",
              "      <td>0.04</td>\n",
              "    </tr>\n",
              "  </tbody>\n",
              "</table>\n",
              "</div>"
            ],
            "text/plain": [
              "                                             Name  ... Other_Sales\n",
              "0                    Candace Kane's Candy Factory  ...        0.00\n",
              "1                                  The Munchables  ...        0.01\n",
              "2  Otome wa Oanesama Boku ni Koi Shiteru Portable  ...        0.00\n",
              "3                Deal or No Deal: Special Edition  ...        0.00\n",
              "4       Ben 10 Ultimate Alien: Cosmic Destruction  ...        0.04\n",
              "\n",
              "[5 rows x 9 columns]"
            ]
          },
          "metadata": {},
          "execution_count": 76
        }
      ]
    },
    {
      "cell_type": "code",
      "source": [
        "df.isnull().sum()"
      ],
      "metadata": {
        "colab": {
          "base_uri": "https://localhost:8080/"
        },
        "id": "hmZkKfNWb20p",
        "outputId": "dbf83d92-9919-40b1-f188-0faa303deee8"
      },
      "execution_count": null,
      "outputs": [
        {
          "output_type": "execute_result",
          "data": {
            "text/plain": [
              "Name           0\n",
              "Platform       0\n",
              "Year           0\n",
              "Genre          0\n",
              "Publisher      0\n",
              "NA_Sales       0\n",
              "EU_Sales       0\n",
              "JP_Sales       0\n",
              "Other_Sales    0\n",
              "dtype: int64"
            ]
          },
          "metadata": {},
          "execution_count": 77
        }
      ]
    },
    {
      "cell_type": "code",
      "source": [
        "df['T_Sales'] = df[num_col].sum(axis = 1)\n",
        "df.head()"
      ],
      "metadata": {
        "colab": {
          "base_uri": "https://localhost:8080/",
          "height": 206
        },
        "id": "LkSMnIzOb7P1",
        "outputId": "c83ea75f-8b3a-4015-89e5-6abb37bbd384"
      },
      "execution_count": null,
      "outputs": [
        {
          "output_type": "execute_result",
          "data": {
            "text/html": [
              "<div>\n",
              "<style scoped>\n",
              "    .dataframe tbody tr th:only-of-type {\n",
              "        vertical-align: middle;\n",
              "    }\n",
              "\n",
              "    .dataframe tbody tr th {\n",
              "        vertical-align: top;\n",
              "    }\n",
              "\n",
              "    .dataframe thead th {\n",
              "        text-align: right;\n",
              "    }\n",
              "</style>\n",
              "<table border=\"1\" class=\"dataframe\">\n",
              "  <thead>\n",
              "    <tr style=\"text-align: right;\">\n",
              "      <th></th>\n",
              "      <th>Name</th>\n",
              "      <th>Platform</th>\n",
              "      <th>Year</th>\n",
              "      <th>Genre</th>\n",
              "      <th>Publisher</th>\n",
              "      <th>NA_Sales</th>\n",
              "      <th>EU_Sales</th>\n",
              "      <th>JP_Sales</th>\n",
              "      <th>Other_Sales</th>\n",
              "      <th>T_Sales</th>\n",
              "    </tr>\n",
              "  </thead>\n",
              "  <tbody>\n",
              "    <tr>\n",
              "      <th>0</th>\n",
              "      <td>Candace Kane's Candy Factory</td>\n",
              "      <td>DS</td>\n",
              "      <td>2008</td>\n",
              "      <td>Action</td>\n",
              "      <td>Destineer</td>\n",
              "      <td>0.04</td>\n",
              "      <td>0.00</td>\n",
              "      <td>0.00</td>\n",
              "      <td>0.00</td>\n",
              "      <td>0.04</td>\n",
              "    </tr>\n",
              "    <tr>\n",
              "      <th>1</th>\n",
              "      <td>The Munchables</td>\n",
              "      <td>Wii</td>\n",
              "      <td>2009</td>\n",
              "      <td>Action</td>\n",
              "      <td>Namco Bandai Games</td>\n",
              "      <td>0.17</td>\n",
              "      <td>0.00</td>\n",
              "      <td>0.00</td>\n",
              "      <td>0.01</td>\n",
              "      <td>0.18</td>\n",
              "    </tr>\n",
              "    <tr>\n",
              "      <th>2</th>\n",
              "      <td>Otome wa Oanesama Boku ni Koi Shiteru Portable</td>\n",
              "      <td>PSP</td>\n",
              "      <td>2010</td>\n",
              "      <td>Adventure</td>\n",
              "      <td>Alchemist</td>\n",
              "      <td>0.00</td>\n",
              "      <td>0.00</td>\n",
              "      <td>0.02</td>\n",
              "      <td>0.00</td>\n",
              "      <td>0.02</td>\n",
              "    </tr>\n",
              "    <tr>\n",
              "      <th>3</th>\n",
              "      <td>Deal or No Deal: Special Edition</td>\n",
              "      <td>DS</td>\n",
              "      <td>2010</td>\n",
              "      <td>Misc</td>\n",
              "      <td>Zoo Games</td>\n",
              "      <td>0.04</td>\n",
              "      <td>0.00</td>\n",
              "      <td>0.00</td>\n",
              "      <td>0.00</td>\n",
              "      <td>0.04</td>\n",
              "    </tr>\n",
              "    <tr>\n",
              "      <th>4</th>\n",
              "      <td>Ben 10 Ultimate Alien: Cosmic Destruction</td>\n",
              "      <td>PS3</td>\n",
              "      <td>2010</td>\n",
              "      <td>Platform</td>\n",
              "      <td>D3Publisher</td>\n",
              "      <td>0.12</td>\n",
              "      <td>0.09</td>\n",
              "      <td>0.00</td>\n",
              "      <td>0.04</td>\n",
              "      <td>0.25</td>\n",
              "    </tr>\n",
              "  </tbody>\n",
              "</table>\n",
              "</div>"
            ],
            "text/plain": [
              "                                             Name  ... T_Sales\n",
              "0                    Candace Kane's Candy Factory  ...    0.04\n",
              "1                                  The Munchables  ...    0.18\n",
              "2  Otome wa Oanesama Boku ni Koi Shiteru Portable  ...    0.02\n",
              "3                Deal or No Deal: Special Edition  ...    0.04\n",
              "4       Ben 10 Ultimate Alien: Cosmic Destruction  ...    0.25\n",
              "\n",
              "[5 rows x 10 columns]"
            ]
          },
          "metadata": {},
          "execution_count": 78
        }
      ]
    },
    {
      "cell_type": "markdown",
      "source": [
        "#### 2.1 지역별 선호게임장르"
      ],
      "metadata": {
        "id": "m-_R0MlOcQ9I"
      }
    },
    {
      "cell_type": "code",
      "source": [
        "# X and Y 축\n",
        "## Title\n",
        "font_title = {'family': 'monospace',\n",
        "        'color':  'black',\n",
        "        'weight': 'bold',\n",
        "        'size': 12,\n",
        "        }\n",
        "## Text\n",
        "font_text = {\n",
        "    'family': 'monospace',\n",
        "    'color':  'black',\n",
        "    'weight': 'bold',\n",
        "    'size': 10,\n",
        "    }\n",
        "\n",
        "\n",
        "# Plotting\n",
        "genre_list = df['Genre'].value_counts().index.to_list()\n",
        "for gr in genre_list:\n",
        "  cond_genre = (df['Genre'] == gr)\n",
        "  df[cond_genre].groupby(by = 'Year')[['NA_Sales','EU_Sales','JP_Sales','Other_Sales']].sum().plot(legend = True)\n",
        "\n",
        "  \n",
        "  # Text\n",
        "  plt.title(gr, fontdict= font_title)\n",
        "  plt.ylabel(\"Total Sales (in million)\", fontdict= font_text)\n",
        "  plt.xlabel(\"Year\",fontdict = font_text) \n",
        "\n",
        "  # Background\n",
        "  plt.grid(True)\n",
        "  plt.show()"
      ],
      "metadata": {
        "id": "_YSnKAHzcQa3"
      },
      "execution_count": null,
      "outputs": []
    },
    {
      "cell_type": "markdown",
      "source": [
        "##### 2.2 연도별 게임장르 판매량"
      ],
      "metadata": {
        "id": "QkJO-pYec2lr"
      }
    },
    {
      "cell_type": "code",
      "source": [
        "genre_list = df['Genre'].value_counts().index.to_list()\n",
        "fig, ax = plt.subplots(figsize = (16,8))\n",
        "\n",
        "# Top 3 Highest Genre\n",
        "top3 = ['Action', 'Shooter', 'Sports']\n",
        "\n",
        "# Plotting\n",
        "for gr in genre_list:\n",
        "  gr_cond = (df['Genre'] == gr)\n",
        "  # Gradient Line\n",
        "  if gr in top3:\n",
        "    alpha = 5\n",
        "  else:\n",
        "    alpha = 0.2\n",
        "  # Line plot\n",
        "  plt.plot('Year','T_Sales',data =  pd.DataFrame(df[gr_cond].groupby(by = ['Year'])[['T_Sales']].sum()).reset_index(), label = gr, alpha = alpha)\n",
        "\n",
        "\n",
        "\n",
        "# X and Y 축\n",
        "## Title\n",
        "font_title = {'family': 'monospace',\n",
        "        'color':  'black',\n",
        "        'weight': 'bold',\n",
        "        'size': 20,\n",
        "        }\n",
        "ax.set_title(\"Game Genre: Total Sales\", fontdict = font_title)\n",
        "\n",
        "\n",
        "## Text\n",
        "font_text = {\n",
        "    'family': 'monospace',\n",
        "    'color':  'black',\n",
        "    'weight': 'bold',\n",
        "    'size': 16,\n",
        "    }\n",
        "\n",
        "plt.ylabel(\"Total Sales (in million)\", fontdict = font_text)\n",
        "plt.xlabel(\"Year\",fontdict = font_text)\n",
        "\n",
        "\n",
        "\n",
        "# Background\n",
        "for spine in [\"top\", \"right\"]:\n",
        "    ax.spines[spine].set_visible(False)\n",
        "\n",
        "# Apex of Video Game Industry\n",
        "ax.axvline(x = 2007, linewidth=1, color='r', linestyle = '-.')\n",
        "ax.axvline(x = 2017, linewidth=1, color='r', linestyle = '-.')\n",
        "\n",
        "\n",
        "ax.grid(True)\n",
        "ax.set_facecolor('#E0E0E0')\n",
        "plt.legend()\n",
        "fig.tight_layout()\n",
        "plt.show()"
      ],
      "metadata": {
        "id": "Lw6-VISycE_o"
      },
      "execution_count": null,
      "outputs": []
    },
    {
      "cell_type": "code",
      "source": [
        "non_action_list = ['Role-Playing', 'Simulation', 'Strategy', 'Puzzle', 'Misc', 'Adventure']\n",
        "fig, ax = plt.subplots(figsize = (16,8))\n",
        "for nac in non_action_list:\n",
        "  nac_cond = (df['Genre'] == nac)\n",
        "  plt.plot('Year','T_Sales',data =  pd.DataFrame(df[nac_cond].groupby(by = ['Year'])[['T_Sales']].sum()).reset_index(), label = nac)\n",
        "\n",
        "# X and Y 축\n",
        "ax.set_title(\"Total Sales in Other Genre\", size = 20)\n",
        "plt.ylabel(\"Total Sales (in million)\")\n",
        "plt.legend()\n",
        "\n",
        "\n",
        "# Background\n",
        "for spine in [\"top\", \"right\"]:\n",
        "    ax.spines[spine].set_visible(False)\n",
        "\n",
        "ax.grid(True)\n",
        "ax.set_facecolor('#E0E0E0')\n",
        "\n",
        "plt.show()\n",
        "\n",
        "\n"
      ],
      "metadata": {
        "id": "OzVt02g1g3yb"
      },
      "execution_count": null,
      "outputs": []
    },
    {
      "cell_type": "code",
      "source": [
        "# Top 3 Highest Genre in global in 2010's\n",
        "top3 = ['Action', 'Shooter', 'Sports']\n",
        "yr = 2005\n",
        "yr_cond = (df['Year'] > yr)\n",
        "top3_data = pd.DataFrame(df[yr_cond].groupby(by = ['Platform','Genre'])[['T_Sales']].sum()).reset_index()\n",
        "# Selecting Top 3 Genre\n",
        "top3_data = top3_data[top3_data['Genre'].isin(top3)]\n",
        "\n",
        "# Platform \n",
        "fig, ax = plt.subplots(figsize = (18,8))\n",
        "sns.barplot(x = 'Platform', y = 'T_Sales', data = top3_data, hue = 'Genre')\n",
        "\n",
        "# X and Y 축\n",
        "## Title\n",
        "font_title = {'family': 'monospace',\n",
        "        'color':  'black',\n",
        "        'weight': 'bold',\n",
        "        'size': 14,\n",
        "        }\n",
        "ax.set_title(\"Total Sales By Platform & Game Genre [after 2005]\", fontdict = font_title)\n",
        "\n",
        "\n",
        "## Text\n",
        "font_text = {\n",
        "    'family': 'monospace',\n",
        "    'color':  'black',\n",
        "    'weight': 'bold',\n",
        "    'size': 12,\n",
        "    }\n",
        "\n",
        "plt.ylabel(\"Total Sales (in million)\", fontdict = font_text)\n",
        "plt.xlabel(\"Platform\",fontdict = font_text)\n",
        "\n",
        "\n",
        "\n",
        "# Background\n",
        "for spine in [\"top\", \"right\"]:\n",
        "    ax.spines[spine].set_visible(False)\n",
        "\n",
        "ax.grid(True)\n",
        "ax.set_facecolor('white')\n",
        "plt.legend()\n",
        "fig.tight_layout()\n",
        "plt.show()\n"
      ],
      "metadata": {
        "colab": {
          "base_uri": "https://localhost:8080/",
          "height": 585
        },
        "id": "eFAbYYBqi27p",
        "outputId": "2d882572-4f57-4abb-caf4-ed6836f85141"
      },
      "execution_count": null,
      "outputs": [
        {
          "output_type": "display_data",
          "data": {
            "image/png": "[encoded data removed]",
            "text/plain": [
              "<Figure size 1296x576 with 1 Axes>"
            ]
          },
          "metadata": {
            "needs_background": "light"
          }
        }
      ]
    },
    {
      "cell_type": "code",
      "source": [
        "#지역-장르별 매출현황\n",
        "df2 = df.copy()\n",
        "\n",
        "df_g = df2.groupby(['Genre'],as_index=False)['NA_Sales','EU_Sales','JP_Sales','Other_Sales','T_Sales'].sum()\n",
        "\n",
        "na_sum = df2['NA_Sales'].sum()\n",
        "eu_sum = df2['EU_Sales'].sum()\n",
        "jp_sum = df2['JP_Sales'].sum()\n",
        "ot_sum = df2['Other_Sales'].sum()\n",
        "to_sum = df2['T_Sales'].sum()\n",
        "\n",
        "import matplotlib.pyplot as plt\n",
        "\n",
        "ratio = [na_sum,eu_sum,jp_sum,ot_sum]\n",
        "labels = ['NA', 'EU', 'JP', 'Other']\n",
        "explode = [0, 0.10, 0, 0.10]\n",
        "plt.title('Sales By district')\n",
        "\n",
        "\n",
        "plt.pie(ratio, labels=labels, autopct='%.1f%%', startangle=260, counterclock=False, explode=explode)\n",
        "plt.show()\n"
      ],
      "metadata": {
        "id": "ouB4Yt2JHwdM",
        "colab": {
          "base_uri": "https://localhost:8080/",
          "height": 339
        },
        "outputId": "8a12d294-8410-48f6-f9f1-50fd00e20adc"
      },
      "execution_count": null,
      "outputs": [
        {
          "output_type": "stream",
          "name": "stderr",
          "text": [
            "/usr/local/lib/python3.7/dist-packages/ipykernel_launcher.py:4: FutureWarning: Indexing with multiple keys (implicitly converted to a tuple of keys) will be deprecated, use a list instead.\n",
            "  after removing the cwd from sys.path.\n",
            "findfont: Font family ['NanumBarunGothic'] not found. Falling back to DejaVu Sans.\n"
          ]
        },
        {
          "output_type": "display_data",
          "data": {
            "image/png": "[encoded data removed]",
            "text/plain": [
              "<Figure size 432x288 with 1 Axes>"
            ]
          },
          "metadata": {}
        }
      ]
    },
    {
      "cell_type": "code",
      "source": [
        "import matplotlib.pyplot as plt\n",
        "import squarify    # pip install squarify (algorithm for treemap)\n",
        "import pandas as pd\n",
        "\n",
        "plt.style.use('default')\n",
        "plt.rcParams['figure.figsize'] = (5,5)\n",
        "plt.rcParams['font.size'] = 10\n",
        "\n",
        "squarify.plot(sizes=df_g['Other_Sales'], label=df_g['Genre'], alpha=0.9, linestyle='solid', bar_kwargs=dict(linewidth=3, edgecolor=\"#eee\"))\n",
        "\n",
        "plt.title('Sales By Genre : Others')\n",
        "plt.axis('off')\n",
        "plt.show()\n",
        "\n",
        "#'NA_Sales','EU_Sales','JP_Sales','Other_Sales'"
      ],
      "metadata": {
        "id": "wHdMx2TNh5VC",
        "colab": {
          "base_uri": "https://localhost:8080/",
          "height": 444
        },
        "outputId": "68a0778a-73d1-4142-d7aa-7f807602c654"
      },
      "execution_count": null,
      "outputs": [
        {
          "output_type": "display_data",
          "data": {
            "image/png": "[encoded data removed]",
            "text/plain": [
              "<Figure size 500x500 with 1 Axes>"
            ]
          },
          "metadata": {}
        }
      ]
    },
    {
      "cell_type": "code",
      "source": [
        "sortdf = df2.sort_values(by=['T_Sales'], ascending=False)\n",
        "top_game_sale = sortdf.head(20)\n",
        "top_game_sale = top_game_sale[['Name', 'Year', 'Genre','Publisher', 'T_Sales']]\n",
        "top_game_sale = top_game_sale.sort_values(by=['T_Sales'], ascending=False)\n",
        "top_game_sale = top_game_sale.reset_index(drop=True)\n",
        "top_game_sale"
      ],
      "metadata": {
        "id": "Ahox2o1H1bkX",
        "colab": {
          "base_uri": "https://localhost:8080/",
          "height": 676
        },
        "outputId": "249f3db0-2c84-4ed5-b0f0-ebc01a00d257"
      },
      "execution_count": null,
      "outputs": [
        {
          "output_type": "execute_result",
          "data": {
            "text/html": [
              "<div>\n",
              "<style scoped>\n",
              "    .dataframe tbody tr th:only-of-type {\n",
              "        vertical-align: middle;\n",
              "    }\n",
              "\n",
              "    .dataframe tbody tr th {\n",
              "        vertical-align: top;\n",
              "    }\n",
              "\n",
              "    .dataframe thead th {\n",
              "        text-align: right;\n",
              "    }\n",
              "</style>\n",
              "<table border=\"1\" class=\"dataframe\">\n",
              "  <thead>\n",
              "    <tr style=\"text-align: right;\">\n",
              "      <th></th>\n",
              "      <th>Name</th>\n",
              "      <th>Year</th>\n",
              "      <th>Genre</th>\n",
              "      <th>Publisher</th>\n",
              "      <th>T_Sales</th>\n",
              "    </tr>\n",
              "  </thead>\n",
              "  <tbody>\n",
              "    <tr>\n",
              "      <th>0</th>\n",
              "      <td>Wii Sports</td>\n",
              "      <td>2006</td>\n",
              "      <td>Sports</td>\n",
              "      <td>Nintendo</td>\n",
              "      <td>82.74</td>\n",
              "    </tr>\n",
              "    <tr>\n",
              "      <th>1</th>\n",
              "      <td>Super Mario Bros.</td>\n",
              "      <td>1985</td>\n",
              "      <td>Platform</td>\n",
              "      <td>Nintendo</td>\n",
              "      <td>40.24</td>\n",
              "    </tr>\n",
              "    <tr>\n",
              "      <th>2</th>\n",
              "      <td>Mario Kart Wii</td>\n",
              "      <td>2008</td>\n",
              "      <td>Racing</td>\n",
              "      <td>Nintendo</td>\n",
              "      <td>35.83</td>\n",
              "    </tr>\n",
              "    <tr>\n",
              "      <th>3</th>\n",
              "      <td>Wii Sports Resort</td>\n",
              "      <td>2009</td>\n",
              "      <td>Sports</td>\n",
              "      <td>Nintendo</td>\n",
              "      <td>33.00</td>\n",
              "    </tr>\n",
              "    <tr>\n",
              "      <th>4</th>\n",
              "      <td>Pokemon Red/Pokemon Blue</td>\n",
              "      <td>1996</td>\n",
              "      <td>Role-Playing</td>\n",
              "      <td>Nintendo</td>\n",
              "      <td>31.38</td>\n",
              "    </tr>\n",
              "    <tr>\n",
              "      <th>5</th>\n",
              "      <td>Tetris</td>\n",
              "      <td>1989</td>\n",
              "      <td>Puzzle</td>\n",
              "      <td>Nintendo</td>\n",
              "      <td>30.26</td>\n",
              "    </tr>\n",
              "    <tr>\n",
              "      <th>6</th>\n",
              "      <td>New Super Mario Bros.</td>\n",
              "      <td>2006</td>\n",
              "      <td>Platform</td>\n",
              "      <td>Nintendo</td>\n",
              "      <td>30.01</td>\n",
              "    </tr>\n",
              "    <tr>\n",
              "      <th>7</th>\n",
              "      <td>Wii Play</td>\n",
              "      <td>2006</td>\n",
              "      <td>Misc</td>\n",
              "      <td>Nintendo</td>\n",
              "      <td>29.01</td>\n",
              "    </tr>\n",
              "    <tr>\n",
              "      <th>8</th>\n",
              "      <td>New Super Mario Bros. Wii</td>\n",
              "      <td>2009</td>\n",
              "      <td>Platform</td>\n",
              "      <td>Nintendo</td>\n",
              "      <td>28.61</td>\n",
              "    </tr>\n",
              "    <tr>\n",
              "      <th>9</th>\n",
              "      <td>Duck Hunt</td>\n",
              "      <td>1984</td>\n",
              "      <td>Shooter</td>\n",
              "      <td>Nintendo</td>\n",
              "      <td>28.31</td>\n",
              "    </tr>\n",
              "    <tr>\n",
              "      <th>10</th>\n",
              "      <td>Nintendogs</td>\n",
              "      <td>2005</td>\n",
              "      <td>Simulation</td>\n",
              "      <td>Nintendo</td>\n",
              "      <td>24.75</td>\n",
              "    </tr>\n",
              "    <tr>\n",
              "      <th>11</th>\n",
              "      <td>Mario Kart DS</td>\n",
              "      <td>2005</td>\n",
              "      <td>Racing</td>\n",
              "      <td>Nintendo</td>\n",
              "      <td>23.43</td>\n",
              "    </tr>\n",
              "    <tr>\n",
              "      <th>12</th>\n",
              "      <td>Pokemon Gold/Pokemon Silver</td>\n",
              "      <td>1999</td>\n",
              "      <td>Role-Playing</td>\n",
              "      <td>Nintendo</td>\n",
              "      <td>23.09</td>\n",
              "    </tr>\n",
              "    <tr>\n",
              "      <th>13</th>\n",
              "      <td>Wii Fit</td>\n",
              "      <td>2007</td>\n",
              "      <td>Sports</td>\n",
              "      <td>Nintendo</td>\n",
              "      <td>22.72</td>\n",
              "    </tr>\n",
              "    <tr>\n",
              "      <th>14</th>\n",
              "      <td>Wii Fit Plus</td>\n",
              "      <td>2009</td>\n",
              "      <td>Sports</td>\n",
              "      <td>Nintendo</td>\n",
              "      <td>22.00</td>\n",
              "    </tr>\n",
              "    <tr>\n",
              "      <th>15</th>\n",
              "      <td>Kinect Adventures!</td>\n",
              "      <td>2010</td>\n",
              "      <td>Misc</td>\n",
              "      <td>Microsoft Game Studios</td>\n",
              "      <td>21.82</td>\n",
              "    </tr>\n",
              "    <tr>\n",
              "      <th>16</th>\n",
              "      <td>Grand Theft Auto V</td>\n",
              "      <td>2013</td>\n",
              "      <td>Action</td>\n",
              "      <td>Take-Two Interactive</td>\n",
              "      <td>21.39</td>\n",
              "    </tr>\n",
              "    <tr>\n",
              "      <th>17</th>\n",
              "      <td>Grand Theft Auto: San Andreas</td>\n",
              "      <td>2004</td>\n",
              "      <td>Action</td>\n",
              "      <td>Take-Two Interactive</td>\n",
              "      <td>20.81</td>\n",
              "    </tr>\n",
              "    <tr>\n",
              "      <th>18</th>\n",
              "      <td>Super Mario World</td>\n",
              "      <td>1990</td>\n",
              "      <td>Platform</td>\n",
              "      <td>Nintendo</td>\n",
              "      <td>20.62</td>\n",
              "    </tr>\n",
              "    <tr>\n",
              "      <th>19</th>\n",
              "      <td>Brain Age: Train Your Brain in Minutes a Day</td>\n",
              "      <td>2005</td>\n",
              "      <td>Misc</td>\n",
              "      <td>Nintendo</td>\n",
              "      <td>20.22</td>\n",
              "    </tr>\n",
              "  </tbody>\n",
              "</table>\n",
              "</div>"
            ],
            "text/plain": [
              "                                            Name  ...  T_Sales\n",
              "0                                     Wii Sports  ...    82.74\n",
              "1                              Super Mario Bros.  ...    40.24\n",
              "2                                 Mario Kart Wii  ...    35.83\n",
              "3                              Wii Sports Resort  ...    33.00\n",
              "4                       Pokemon Red/Pokemon Blue  ...    31.38\n",
              "5                                         Tetris  ...    30.26\n",
              "6                          New Super Mario Bros.  ...    30.01\n",
              "7                                       Wii Play  ...    29.01\n",
              "8                      New Super Mario Bros. Wii  ...    28.61\n",
              "9                                      Duck Hunt  ...    28.31\n",
              "10                                    Nintendogs  ...    24.75\n",
              "11                                 Mario Kart DS  ...    23.43\n",
              "12                   Pokemon Gold/Pokemon Silver  ...    23.09\n",
              "13                                       Wii Fit  ...    22.72\n",
              "14                                  Wii Fit Plus  ...    22.00\n",
              "15                            Kinect Adventures!  ...    21.82\n",
              "16                            Grand Theft Auto V  ...    21.39\n",
              "17                 Grand Theft Auto: San Andreas  ...    20.81\n",
              "18                             Super Mario World  ...    20.62\n",
              "19  Brain Age: Train Your Brain in Minutes a Day  ...    20.22\n",
              "\n",
              "[20 rows x 5 columns]"
            ]
          },
          "metadata": {},
          "execution_count": 103
        }
      ]
    }
  ]
}